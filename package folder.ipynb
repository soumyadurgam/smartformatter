{
 "cells": [
  {
   "cell_type": "code",
   "execution_count": 2,
   "id": "f5f9b744-ff4e-44d0-b21c-e3905a328291",
   "metadata": {},
   "outputs": [],
   "source": [
    "!mkdir smartformatter"
   ]
  },
  {
   "cell_type": "code",
   "execution_count": 3,
   "id": "70293a8f-c0d2-4b2a-8852-4173b94d84d5",
   "metadata": {},
   "outputs": [
    {
     "name": "stdout",
     "output_type": "stream",
     "text": [
      "Writing setup.py\n"
     ]
    }
   ],
   "source": [
    "%%writefile setup.py\n",
    "\n",
    "from setuptools import setup, find_packages\n",
    "\n",
    "setup(\n",
    "    name=\"smartformatter\",\n",
    "    version=\"0.1\",\n",
    "    packages=find_packages(),\n",
    "    insatall_requires=[\"inflect\"],\n",
    "    author=\"Soumya\",\n",
    "    description=\"utility functions for smart formatting of names, phones, numbers.\",\n",
    ")\n",
    "\n"
   ]
  },
  {
   "cell_type": "code",
   "execution_count": null,
   "id": "a0eea745-d358-440d-9479-8934ef7667dc",
   "metadata": {},
   "outputs": [],
   "source": []
  }
 ],
 "metadata": {
  "kernelspec": {
   "display_name": "Python 3 (ipykernel)",
   "language": "python",
   "name": "python3"
  },
  "language_info": {
   "codemirror_mode": {
    "name": "ipython",
    "version": 3
   },
   "file_extension": ".py",
   "mimetype": "text/x-python",
   "name": "python",
   "nbconvert_exporter": "python",
   "pygments_lexer": "ipython3",
   "version": "3.12.7"
  }
 },
 "nbformat": 4,
 "nbformat_minor": 5
}
