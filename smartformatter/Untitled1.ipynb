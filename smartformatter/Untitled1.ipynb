{
 "cells": [
  {
   "cell_type": "code",
   "execution_count": 1,
   "id": "53d64bff-0073-478c-9ee1-a8ab1a7eef4c",
   "metadata": {},
   "outputs": [],
   "source": [
    "from core import format_currency"
   ]
  },
  {
   "cell_type": "code",
   "execution_count": 3,
   "id": "bac06f03-6acf-4a31-8ea6-e9103247afe9",
   "metadata": {},
   "outputs": [
    {
     "data": {
      "text/plain": [
       "'$ 0.20'"
      ]
     },
     "execution_count": 3,
     "metadata": {},
     "output_type": "execute_result"
    }
   ],
   "source": [
    "format_currency(0.2)"
   ]
  },
  {
   "cell_type": "code",
   "execution_count": null,
   "id": "dbf4f01c-ea1b-4858-8ec3-dc19e3510c74",
   "metadata": {},
   "outputs": [],
   "source": []
  }
 ],
 "metadata": {
  "kernelspec": {
   "display_name": "Python 3 (ipykernel)",
   "language": "python",
   "name": "python3"
  },
  "language_info": {
   "codemirror_mode": {
    "name": "ipython",
    "version": 3
   },
   "file_extension": ".py",
   "mimetype": "text/x-python",
   "name": "python",
   "nbconvert_exporter": "python",
   "pygments_lexer": "ipython3",
   "version": "3.12.7"
  }
 },
 "nbformat": 4,
 "nbformat_minor": 5
}
